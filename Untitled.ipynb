{
 "cells": [
  {
   "cell_type": "markdown",
   "metadata": {},
   "source": [
    "# Imports"
   ]
  },
  {
   "cell_type": "code",
   "execution_count": null,
   "metadata": {},
   "outputs": [],
   "source": [
    "import pandas as pd\n",
    "import numpy as np\n",
    "import statsmodels.api as sm\n",
    "import matplotlib.pyplot as plt\n",
    "import seaborn as sns\n",
    "from sklearn.linear_model import Lasso, Ridge, LinearRegression,RidgeCV,LassoCV, ElasticNetCV\n",
    "sns.set()\n",
    "#! pip install zipcodes\n",
    "#import zipcodes\n",
    "from sklearn.model_selection import cross_val_score\n",
    "from sklearn.model_selection import KFold\n",
    "from sklearn.model_selection import GridSearchCV\n",
    "from sklearn.metrics import r2_score, mean_squared_error, make_scorer\n",
    "import pickle\n",
    "kf = KFold(n_splits=5, shuffle=False).split(range(25))"
   ]
  },
  {
   "cell_type": "markdown",
   "metadata": {},
   "source": [
    "# Upload Data"
   ]
  },
  {
   "cell_type": "code",
   "execution_count": null,
   "metadata": {},
   "outputs": [],
   "source": [
    "xls = pd.ExcelFile('NASSAgcensusDownload2017.xlsx')"
   ]
  },
  {
   "cell_type": "code",
   "execution_count": null,
   "metadata": {},
   "outputs": [],
   "source": [
    "County_Names= pd.read_excel(xls, 'County Names')\n",
    "Crops_and_Plants=pd.read_excel(xls, 'Crops and Plants').sort_values(by='FIPS')\n",
    "Farms=pd.read_excel(xls, 'Farms').sort_values(by='FIPS')\n",
    "Livestock_and_Animals=pd.read_excel(xls, 'Livestock and Animals').sort_values(by='FIPS')\n",
    "Producers=pd.read_excel(xls, 'Producers').sort_values(by='FIPS')\n",
    "Variable_Lookup=pd.read_excel(xls, 'Variable Lookup')\n",
    "Economics=pd.read_excel(xls, 'Economics')"
   ]
  },
  {
   "cell_type": "markdown",
   "metadata": {},
   "source": [
    "# Clean Data"
   ]
  },
  {
   "cell_type": "code",
   "execution_count": null,
   "metadata": {},
   "outputs": [],
   "source": [
    "countries_dict = {'Washington' : 0, 'Oregon' : 0, 'California' : 0, 'Nevada' : 0,\n",
    "    'Idaho' : 0, 'Utah' : 0, 'Arizona' : 0, 'New Mexico' : 0, 'Montana' : 0, 'Wyoming' : 0,\n",
    "    'Alaska' : 0, 'Hawaii' : 0, 'Texas' : 1, 'Oklahoma' : 1, 'Kansas' : 1, 'Colorado' : 1,\n",
    "    'Nebraska' : 1, 'South Dakota' : 1, 'North Dakota' : 1, 'Minnesota' : 1, 'Iowa' : 1,\n",
    "    'Missouri' : 1, 'Illinois' : 1, 'Wisconsin' : 1, 'Arkansas' : 2, 'Louisiana' : 2,\n",
    "    'Louisana' : 2, 'Mississippi' : 2, 'Alabama' : 2, 'Tennessee' : 2, 'Florida' : 2,\n",
    "    'Georgia' : 2, 'South Carolina' : 2, 'North Carolina' : 2, 'Kentucky' : 2, 'Indiana' : 2,\n",
    "    'Ohio' : 2, 'Michigan' : 2, 'Maine' : 3, 'Vermont' : 3, 'New Hampshire' : 3,\n",
    "    'Massachusetts' : 3, 'New York' : 3, 'Rhode Island' : 3, 'Connecticut' : 3, 'New Jersey' : 3,\n",
    "    'Pennsylvania' : 3, 'Delaware' : 3, 'Maryland' : 3, 'West Virginia' : 3, 'Virginia' : 3\n",
    "}\n",
    "County_Names['Region'] = County_Names['StateName'].replace(countries_dict)"
   ]
  },
  {
   "cell_type": "markdown",
   "metadata": {},
   "source": [
    "## Concatenate all the data frames"
   ]
  },
  {
   "cell_type": "code",
   "execution_count": null,
   "metadata": {},
   "outputs": [],
   "source": [
    "result = pd.concat([Economics,Crops_and_Plants, Farms,Livestock_and_Animals,Producers], axis=1, sort=False)[1:]\n",
    "results=result.T.reset_index().sort_values(by='index').iloc[9:].T\n",
    "new_header = results.iloc[0] \n",
    "# take the rest of your data minus the header row\n",
    "df = results[1:] \n",
    "# set the header row as the df header\n",
    "df.columns = new_header \n",
    "# drop and copy \n",
    "df1=df.reset_index().drop(columns='index').copy()"
   ]
  },
  {
   "cell_type": "code",
   "execution_count": null,
   "metadata": {},
   "outputs": [],
   "source": [
    "list_num=[]\n",
    "for i in df1.columns:\n",
    "    if 'Numeric' in i:\n",
    "        list_num.append(i)\n",
    "list_num[:3]\n",
    "data_num=df1[list_num]\n",
    "\n",
    "#null data\n",
    "nulldata1=pd.DataFrame(data_num.isnull().sum()).reset_index()\n",
    "nulldata1.columns=['MapTitle','null_amount']\n",
    "\n",
    "# only return column names who's data missing less than 20%\n",
    "list_1=[]\n",
    "for i  in range(len(nulldata1['null_amount'])):\n",
    "    if nulldata1['null_amount'][i] < len(data_num)*0.2:\n",
    "        list_1.append(nulldata1['MapTitle'][i])\n",
    "        \n",
    "new_data=data_num[list_1]\n",
    "my_data=new_data.fillna(new_data.median())\n",
    "my_data.isnull().sum()"
   ]
  },
  {
   "cell_type": "code",
   "execution_count": null,
   "metadata": {},
   "outputs": [],
   "source": [
    "#save the output locally\n",
    "pickle_out=open('my_data', 'wb')\n",
    "pickle.dump(my_data, pickle_out)\n",
    "pickle_out.close()"
   ]
  },
  {
   "cell_type": "code",
   "execution_count": null,
   "metadata": {},
   "outputs": [],
   "source": [
    "pickle_in = open(\"my_data\",\"rb\")\n",
    "my_data = pickle.load(pickle_in)"
   ]
  },
  {
   "cell_type": "code",
   "execution_count": null,
   "metadata": {},
   "outputs": [],
   "source": []
  },
  {
   "cell_type": "code",
   "execution_count": null,
   "metadata": {},
   "outputs": [],
   "source": []
  }
 ],
 "metadata": {
  "kernelspec": {
   "display_name": "Python 3",
   "language": "python",
   "name": "python3"
  },
  "language_info": {
   "codemirror_mode": {
    "name": "ipython",
    "version": 3
   },
   "file_extension": ".py",
   "mimetype": "text/x-python",
   "name": "python",
   "nbconvert_exporter": "python",
   "pygments_lexer": "ipython3",
   "version": "3.7.4"
  },
  "toc": {
   "base_numbering": 1,
   "nav_menu": {},
   "number_sections": true,
   "sideBar": true,
   "skip_h1_title": false,
   "title_cell": "Table of Contents",
   "title_sidebar": "Contents",
   "toc_cell": false,
   "toc_position": {},
   "toc_section_display": true,
   "toc_window_display": false
  }
 },
 "nbformat": 4,
 "nbformat_minor": 2
}
